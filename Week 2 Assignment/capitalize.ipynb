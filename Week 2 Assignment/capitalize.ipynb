{
 "cells": [
  {
   "cell_type": "markdown",
   "id": "2de1e94c-65a8-447f-9220-ab51d4fd794e",
   "metadata": {
    "jp-MarkdownHeadingCollapsed": true
   },
   "source": [
    "## Task 1 Capitalize!"
   ]
  },
  {
   "cell_type": "code",
   "execution_count": 5,
   "id": "d6d262d5-6dcd-4fd8-8c3e-04dc49181b8b",
   "metadata": {},
   "outputs": [
    {
     "data": {
      "text/plain": [
       "'Hello World'"
      ]
     },
     "execution_count": 5,
     "metadata": {},
     "output_type": "execute_result"
    }
   ],
   "source": [
    "\n",
    "def solve(s):\n",
    "    return ' '.join(word.capitalize() for word in s.split())\n",
    "\n",
    "solve(\"hello world\")"
   ]
  },
  {
   "cell_type": "markdown",
   "id": "b059c90a-5115-400c-9374-c06c4d7963c9",
   "metadata": {
    "jp-MarkdownHeadingCollapsed": true
   },
   "source": [
    "## Task 2 Introduction of sets"
   ]
  },
  {
   "cell_type": "code",
   "execution_count": 6,
   "id": "fc5eda5a-b2b5-4440-b7ae-7dc1010f0598",
   "metadata": {},
   "outputs": [
    {
     "name": "stdin",
     "output_type": "stream",
     "text": [
      " 2\n",
      " 223 332\n"
     ]
    },
    {
     "name": "stdout",
     "output_type": "stream",
     "text": [
      "277.5\n"
     ]
    }
   ],
   "source": [
    "def average(array):\n",
    "    # distinct_heights = set(array)\n",
    "    return sum(set(array)) / len(set(array))\n",
    "\n",
    "if __name__ == '__main__':\n",
    "    n = int(input())\n",
    "    arr = list(map(int, input().split()))\n",
    "    result = average(arr)\n",
    "    print(result)"
   ]
  },
  {
   "cell_type": "markdown",
   "id": "a641e6cf-7483-4ddb-8ec9-56db4700ef49",
   "metadata": {
    "jp-MarkdownHeadingCollapsed": true
   },
   "source": [
    "## Task 3 Text Wrap"
   ]
  },
  {
   "cell_type": "code",
   "execution_count": 7,
   "id": "103b91fe-96ee-4e12-8722-78c5a5d70d85",
   "metadata": {},
   "outputs": [
    {
     "name": "stdin",
     "output_type": "stream",
     "text": [
      " ABCDFASFEADSKASC\n",
      " 2\n"
     ]
    },
    {
     "name": "stdout",
     "output_type": "stream",
     "text": [
      "AB\n",
      "CD\n",
      "FA\n",
      "SF\n",
      "EA\n",
      "DS\n",
      "KA\n",
      "SC\n"
     ]
    }
   ],
   "source": [
    "import textwrap\n",
    "\n",
    "def wrap(string, max_width):\n",
    "    return '\\n'.join([string[i:i+max_width] for i in range(0, len(string), max_width)])\n",
    "\n",
    "\n",
    "if __name__ == '__main__':\n",
    "    string, max_width = input(), int(input())\n",
    "    result = wrap(string, max_width)\n",
    "    print(result)"
   ]
  },
  {
   "cell_type": "markdown",
   "id": "b4ec7164-cbee-4d37-a432-f53210d2894d",
   "metadata": {
    "jp-MarkdownHeadingCollapsed": true
   },
   "source": [
    "## Task 4 Alphabet Rangoli\n"
   ]
  },
  {
   "cell_type": "code",
   "execution_count": 8,
   "id": "4bc1c7a8-252d-45ff-bee4-80d5d62b029c",
   "metadata": {},
   "outputs": [
    {
     "name": "stdin",
     "output_type": "stream",
     "text": [
      " 9\n"
     ]
    },
    {
     "name": "stdout",
     "output_type": "stream",
     "text": [
      "----------------i----------------\n",
      "--------------i-h-i--------------\n",
      "------------i-h-g-h-i------------\n",
      "----------i-h-g-f-g-h-i----------\n",
      "--------i-h-g-f-e-f-g-h-i--------\n",
      "------i-h-g-f-e-d-e-f-g-h-i------\n",
      "----i-h-g-f-e-d-c-d-e-f-g-h-i----\n",
      "--i-h-g-f-e-d-c-b-c-d-e-f-g-h-i--\n",
      "i-h-g-f-e-d-c-b-a-b-c-d-e-f-g-h-i\n",
      "--i-h-g-f-e-d-c-b-c-d-e-f-g-h-i--\n",
      "----i-h-g-f-e-d-c-d-e-f-g-h-i----\n",
      "------i-h-g-f-e-d-e-f-g-h-i------\n",
      "--------i-h-g-f-e-f-g-h-i--------\n",
      "----------i-h-g-f-g-h-i----------\n",
      "------------i-h-g-h-i------------\n",
      "--------------i-h-i--------------\n",
      "----------------i----------------\n"
     ]
    }
   ],
   "source": [
    "import string \n",
    " \n",
    "def print_rangoli(size):\n",
    "    alpha = string.ascii_lowercase\n",
    "    for i in range(size-1, -size, -1):\n",
    "        row = '-'.join(alpha[size-1:abs(i):-1] + alpha[abs(i):size])\n",
    "        print(row.center(4*size-3, '-'))\n",
    "        \n",
    "if __name__ == '__main__':\n",
    "    n = int(input())\n",
    "    print_rangoli(n)"
   ]
  },
  {
   "cell_type": "markdown",
   "id": "987d102a-23cd-4664-914b-3dc5ee01da2d",
   "metadata": {
    "jp-MarkdownHeadingCollapsed": true
   },
   "source": [
    "## Task 5 Merge the Tools"
   ]
  },
  {
   "cell_type": "code",
   "execution_count": 13,
   "id": "8890e027-49a8-461f-9916-8a1be4b275ef",
   "metadata": {},
   "outputs": [
    {
     "name": "stdin",
     "output_type": "stream",
     "text": [
      " AAABBBBBCCCCCNNNNN\n",
      " 3\n"
     ]
    },
    {
     "name": "stdout",
     "output_type": "stream",
     "text": [
      "A\n",
      "B\n",
      "BC\n",
      "C\n",
      "CN\n",
      "N\n"
     ]
    }
   ],
   "source": [
    "def merge_the_tools(string, k):\n",
    "    for i in range(0, len(string), k):\n",
    "        print(''.join(dict.fromkeys(string[i:i+k])))\n",
    "if __name__ == '__main__':\n",
    "    string, k = input(), int(input())\n",
    "    merge_the_tools(string, k)"
   ]
  },
  {
   "cell_type": "markdown",
   "id": "eca93a93-aeba-4075-8693-ee59f922eb46",
   "metadata": {
    "jp-MarkdownHeadingCollapsed": true
   },
   "source": [
    "## Task 6 Collection.Counter "
   ]
  },
  {
   "cell_type": "code",
   "execution_count": 15,
   "id": "d571800a-36d7-46b7-bd0a-9a1e45d5d4e2",
   "metadata": {},
   "outputs": [
    {
     "name": "stdin",
     "output_type": "stream",
     "text": [
      " \n"
     ]
    },
    {
     "ename": "ValueError",
     "evalue": "invalid literal for int() with base 10: ''",
     "output_type": "error",
     "traceback": [
      "\u001b[31m---------------------------------------------------------------------------\u001b[39m",
      "\u001b[31mValueError\u001b[39m                                Traceback (most recent call last)",
      "\u001b[36mCell\u001b[39m\u001b[36m \u001b[39m\u001b[32mIn[15]\u001b[39m\u001b[32m, line 4\u001b[39m\n\u001b[32m      1\u001b[39m \u001b[38;5;28;01mfrom\u001b[39;00m\u001b[38;5;250m \u001b[39m\u001b[34;01mcollections\u001b[39;00m\u001b[38;5;250m \u001b[39m\u001b[38;5;28;01mimport\u001b[39;00m Counter\n\u001b[32m      3\u001b[39m \u001b[38;5;66;03m# Input reading\u001b[39;00m\n\u001b[32m----> \u001b[39m\u001b[32m4\u001b[39m X = \u001b[38;5;28;43mint\u001b[39;49m\u001b[43m(\u001b[49m\u001b[38;5;28;43minput\u001b[39;49m\u001b[43m(\u001b[49m\u001b[43m)\u001b[49m\u001b[43m)\u001b[49m  \u001b[38;5;66;03m# Number of shoes\u001b[39;00m\n\u001b[32m      5\u001b[39m shoe_sizes = \u001b[38;5;28mlist\u001b[39m(\u001b[38;5;28mmap\u001b[39m(\u001b[38;5;28mint\u001b[39m, \u001b[38;5;28minput\u001b[39m().split()))\n\u001b[32m      6\u001b[39m N = \u001b[38;5;28mint\u001b[39m(\u001b[38;5;28minput\u001b[39m())  \u001b[38;5;66;03m# Number of customers\u001b[39;00m\n",
      "\u001b[31mValueError\u001b[39m: invalid literal for int() with base 10: ''"
     ]
    }
   ],
   "source": [
    "from collections import Counter\n",
    "\n",
    "# Input reading\n",
    "X = int(input())  # Number of shoes\n",
    "shoe_sizes = list(map(int, input().split()))\n",
    "N = int(input())  # Number of customers\n",
    "\n",
    "stock = Counter(shoe_sizes)\n",
    "\n",
    "earnings = 0\n",
    "\n",
    "for _ in range(N):\n",
    "    size, price = map(int, input().split())\n",
    "    if stock[size] > 0:\n",
    "        earnings += price\n",
    "        stock[size] -= 1\n",
    "        \n",
    "print(earnings)"
   ]
  },
  {
   "cell_type": "code",
   "execution_count": 22,
   "id": "56081d10-b3c9-4ef2-9f47-aaeb02621182",
   "metadata": {},
   "outputs": [
    {
     "name": "stdin",
     "output_type": "stream",
     "text": [
      " 1\n",
      " 2 .*\\\n"
     ]
    },
    {
     "name": "stdout",
     "output_type": "stream",
     "text": [
      "False\n"
     ]
    }
   ],
   "source": [
    "import re\n",
    "for _ in range(int(input())):\n",
    "    try: re.compile(input()); print(True)\n",
    "    except: print(False)\n",
    "\n"
   ]
  },
  {
   "cell_type": "markdown",
   "id": "46f465fe-e26f-4df2-84e2-52be57f9b733",
   "metadata": {
    "jp-MarkdownHeadingCollapsed": true
   },
   "source": [
    "## Task 7 Exceptions"
   ]
  },
  {
   "cell_type": "code",
   "execution_count": 24,
   "id": "48a33e00-3cc2-47fb-8d69-5ed20f77a353",
   "metadata": {},
   "outputs": [
    {
     "name": "stdin",
     "output_type": "stream",
     "text": [
      " 4\n",
      " 3\n"
     ]
    },
    {
     "name": "stdout",
     "output_type": "stream",
     "text": [
      "Error Code: not enough values to unpack (expected 2, got 1)\n"
     ]
    },
    {
     "name": "stdin",
     "output_type": "stream",
     "text": [
      " 1 0\n"
     ]
    },
    {
     "name": "stdout",
     "output_type": "stream",
     "text": [
      "Error Code: integer division or modulo by zero\n"
     ]
    },
    {
     "name": "stdin",
     "output_type": "stream",
     "text": [
      " 2 3\n"
     ]
    },
    {
     "name": "stdout",
     "output_type": "stream",
     "text": [
      "0\n"
     ]
    },
    {
     "name": "stdin",
     "output_type": "stream",
     "text": [
      " 3 1\n"
     ]
    },
    {
     "name": "stdout",
     "output_type": "stream",
     "text": [
      "3\n"
     ]
    }
   ],
   "source": [
    "for _ in range(int(input())):\n",
    "    try:\n",
    "        a, b = input().split()\n",
    "        print(int(a) // int(b))\n",
    "    except Exception as e:\n",
    "        print(\"Error Code:\", e)\n"
   ]
  },
  {
   "cell_type": "markdown",
   "id": "0f96bc88-9772-4d22-a38f-48ffee683a12",
   "metadata": {
    "jp-MarkdownHeadingCollapsed": true
   },
   "source": [
    "## Task 8 Incorrect Regex\n"
   ]
  },
  {
   "cell_type": "markdown",
   "id": "c175c442-bd00-4358-a0e5-814c08778b7a",
   "metadata": {
    "jp-MarkdownHeadingCollapsed": true
   },
   "source": [
    "## Task 9 Set discard(), remove() & pop()\n"
   ]
  },
  {
   "cell_type": "code",
   "execution_count": 25,
   "id": "a0de5aaf-7afa-4342-858a-cb57924055c4",
   "metadata": {},
   "outputs": [
    {
     "name": "stdin",
     "output_type": "stream",
     "text": [
      " 9\n",
      " 1 2 3 4 5 6 7 8 9\n",
      " 10\n",
      " pop\n",
      " remove 9\n",
      " discard 9\n",
      " discard 8\n",
      " remove 7\n",
      " pop\n",
      " discard 6\n",
      " remove 5\n",
      " pop\n",
      " discard 5\n"
     ]
    },
    {
     "name": "stdout",
     "output_type": "stream",
     "text": [
      "4\n"
     ]
    }
   ],
   "source": [
    "n = int(input())\n",
    "s = set(map(int, input().split()))\n",
    "for _ in range(int(input())):\n",
    "    parts = input().split()\n",
    "    cmd = parts[0]\n",
    "    if cmd == 'pop':\n",
    "        if s:\n",
    "            s.remove(min(s))  \n",
    "    elif cmd == 'remove':\n",
    "        x = int(parts[1])\n",
    "        if x in s:\n",
    "            s.remove(x)\n",
    "    elif cmd == 'discard':\n",
    "        s.discard(int(parts[1]))\n",
    "print(sum(s))\n"
   ]
  }
 ],
 "metadata": {
  "kernelspec": {
   "display_name": "Python 3 (ipykernel)",
   "language": "python",
   "name": "python3"
  },
  "language_info": {
   "codemirror_mode": {
    "name": "ipython",
    "version": 3
   },
   "file_extension": ".py",
   "mimetype": "text/x-python",
   "name": "python",
   "nbconvert_exporter": "python",
   "pygments_lexer": "ipython3",
   "version": "3.13.3"
  }
 },
 "nbformat": 4,
 "nbformat_minor": 5
}
