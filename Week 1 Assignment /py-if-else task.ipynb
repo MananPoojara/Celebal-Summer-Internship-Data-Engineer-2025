{
 "cells": [
  {
   "cell_type": "markdown",
   "id": "087b14a5-a7ee-4db2-9251-247b219125e8",
   "metadata": {
    "jp-MarkdownHeadingCollapsed": true
   },
   "source": [
    "## Task 1 "
   ]
  },
  {
   "cell_type": "markdown",
   "id": "5839e958-12b1-4675-845d-f8709f869f62",
   "metadata": {
    "jp-MarkdownHeadingCollapsed": true
   },
   "source": [
    "## Task 2 Arithmetic Operators\n",
    "The provided code stub reads two integers from STDIN,  and . Add code to print three lines where:\n",
    "\n",
    "The first line contains the sum of the two numbers.\n",
    "The second line contains the difference of the two numbers (first - second).\n",
    "The third line contains the product of the two numbers."
   ]
  },
  {
   "cell_type": "code",
   "execution_count": 1,
   "id": "74daef66-c972-4c3a-b151-71683de38e95",
   "metadata": {},
   "outputs": [
    {
     "name": "stdin",
     "output_type": "stream",
     "text": [
      " 2\n",
      " 3\n"
     ]
    },
    {
     "name": "stdout",
     "output_type": "stream",
     "text": [
      "5\n",
      "-1\n",
      "6\n"
     ]
    }
   ],
   "source": [
    "if __name__ == '__main__':\n",
    "    a = int(input())\n",
    "    b = int(input())\n",
    "    print(a+b)\n",
    "    print(a-b)\n",
    "    print(a*b)\n"
   ]
  },
  {
   "cell_type": "markdown",
   "id": "af227a9b-96fe-4826-a6a9-2aaedc9ea0e5",
   "metadata": {
    "jp-MarkdownHeadingCollapsed": true
   },
   "source": [
    "## Task 3 Compress the String!\n",
    "In this task, we would like for you to appreciate the usefulness of the groupby() function of itertools .\n"
   ]
  },
  {
   "cell_type": "code",
   "execution_count": 27,
   "id": "df84a351-7492-4c5a-9dda-5059b1a71a3e",
   "metadata": {},
   "outputs": [
    {
     "name": "stdin",
     "output_type": "stream",
     "text": [
      " 112233\n"
     ]
    },
    {
     "name": "stdout",
     "output_type": "stream",
     "text": [
      "(2, 1) (2, 2) (2, 3) "
     ]
    }
   ],
   "source": [
    "'''\n",
    "Breakdown\n",
    "\n",
    "groupby() is a iterabal tool smart helper for grouping same digit or thing in group \n",
    "here we have two parameter \n",
    "key = the digit or thing\n",
    "group = making group \n",
    "\n",
    "what we did here make group of same thing and count it \n",
    "in print firt (Count, Key) \n",
    "''' \n",
    "\n",
    "import itertools \n",
    "\n",
    "s = input()\n",
    "\n",
    "for key,group in itertools.groupby(s):\n",
    "    count = len(list(group)) # finding same numbers and make it in group [2,2,2] and count is 3\n",
    "    print(f\"({count}, {key})\", end=\" \")\n",
    "    "
   ]
  },
  {
   "cell_type": "markdown",
   "id": "0737fa26-aed1-4925-8237-f3bd080727e8",
   "metadata": {
    "jp-MarkdownHeadingCollapsed": true
   },
   "source": [
    "## Task 4 The Minion Game"
   ]
  },
  {
   "cell_type": "code",
   "execution_count": null,
   "id": "3d0491a1-06cc-4596-a8af-c23a26c88601",
   "metadata": {},
   "outputs": [],
   "source": [
    "def minion_game(string):\n",
    "    vowels = 'AEIOU'\n",
    "    stuart_score = 0\n",
    "    kevin_score = 0\n",
    "    n = len(string)\n",
    "    \n",
    "    for i in range(n):\n",
    "        if string[i] in vowels:\n",
    "            kevin_score += n - i \n",
    "        else : \n",
    "            stuart_score += n - i \n",
    "    \n",
    "    if kevin_score > stuart_score:\n",
    "        print(f\"Kevin {kevin_score}\")\n",
    "    elif kevin_score < stuart_score:\n",
    "        print(f\"Stuart {stuart_score}\")\n",
    "    else:\n",
    "        print(\"Draw\")\n",
    "\n",
    "if __name__ == '__main__':\n",
    "    s = input()\n",
    "    minion_game(s)"
   ]
  },
  {
   "cell_type": "markdown",
   "id": "16b2e184-6971-4cb3-abd7-e756a095fc92",
   "metadata": {
    "jp-MarkdownHeadingCollapsed": true
   },
   "source": [
    "## Task 5 Is Leap year or not\n",
    "\n",
    "Given a year, determine whether it is a leap year. If it is a leap year, return the Boolean True, otherwise return False."
   ]
  },
  {
   "cell_type": "code",
   "execution_count": null,
   "id": "fad1c67b-9884-4357-ae1a-8f9fdcde60c4",
   "metadata": {},
   "outputs": [],
   "source": [
    "def is_leap(year):\n",
    "    return (year % 4 == 0 and year % 100 != 0) or (year % 400 == 0)\n",
    "\n",
    "year = int(input())\n",
    "print(is_leap(year))"
   ]
  },
  {
   "cell_type": "markdown",
   "id": "8ede7ef5-eeea-4acb-baef-de1b17f7d089",
   "metadata": {
    "jp-MarkdownHeadingCollapsed": true
   },
   "source": [
    "## Task 6"
   ]
  },
  {
   "cell_type": "markdown",
   "id": "c6901a1d-eba7-4a20-b7bb-e332a96257e0",
   "metadata": {
    "jp-MarkdownHeadingCollapsed": true
   },
   "source": [
    "## Task 7 Iterables and Iterators"
   ]
  },
  {
   "cell_type": "code",
   "execution_count": 5,
   "id": "8e0f736b-506b-48a1-9a3f-a9f2a4776f69",
   "metadata": {},
   "outputs": [
    {
     "name": "stdin",
     "output_type": "stream",
     "text": [
      " 2 \n",
      " a b \n",
      " 2\n"
     ]
    },
    {
     "name": "stdout",
     "output_type": "stream",
     "text": [
      "1.0\n"
     ]
    }
   ],
   "source": [
    "from itertools import combinations\n",
    "\n",
    "n = int(input())\n",
    "letters = input().split()\n",
    "k = int(input())\n",
    "\n",
    "all_combos = list(combinations(letters, k)) #combinations of k elements\n",
    "\n",
    "count_with_a = sum(1 for combo in all_combos if 'a' in combo) #how many combinations contain at least one 'a'\n",
    "\n",
    "total_combos = len(all_combos) #number of combinations\n",
    "\n",
    "probability = count_with_a / total_combos #Calculate probability\n",
    "\n",
    "print(f\"{probability}\")\n"
   ]
  },
  {
   "cell_type": "markdown",
   "id": "5dab80f7-ab7e-4631-bf36-6f6ad2651eea",
   "metadata": {
    "jp-MarkdownHeadingCollapsed": true
   },
   "source": [
    "## Task 8 Tuples"
   ]
  },
  {
   "cell_type": "code",
   "execution_count": 6,
   "id": "69107cae-f588-4be1-9548-a2c81b179e1a",
   "metadata": {},
   "outputs": [
    {
     "name": "stdin",
     "output_type": "stream",
     "text": [
      " 2\n",
      " 13\n"
     ]
    },
    {
     "name": "stdout",
     "output_type": "stream",
     "text": [
      "5647185927008167994\n"
     ]
    }
   ],
   "source": [
    "if __name__ == '__main__':\n",
    "    n = int(input())\n",
    "    integer_list = map(int, input().split())\n",
    "    \n",
    "    t = tuple(integer_list)\n",
    "    print(hash(t))"
   ]
  },
  {
   "cell_type": "markdown",
   "id": "685d1bd4-476d-49ec-8c5a-3a1facbafe91",
   "metadata": {
    "jp-MarkdownHeadingCollapsed": true
   },
   "source": [
    "## Task 9 Finding the percentage"
   ]
  },
  {
   "cell_type": "code",
   "execution_count": null,
   "id": "2c216a11-7147-4923-9434-cf59e6c64531",
   "metadata": {},
   "outputs": [],
   "source": [
    "if __name__ == '__main__':\n",
    "    n = int(input())\n",
    "    student_marks = {}\n",
    "    for _ in range(n):\n",
    "        name, *line = input().split()\n",
    "        scores = list(map(float, line))\n",
    "        student_marks[name] = scores\n",
    "    query_name = input()\n",
    "    avg = sum(student_marks[query_name])/len(student_marks[query_name])\n",
    "    print(f\"{avg:.2f}\")"
   ]
  },
  {
   "cell_type": "markdown",
   "id": "d03017f4-0be6-4fc6-84a6-e6253127f7b5",
   "metadata": {
    "jp-MarkdownHeadingCollapsed": true
   },
   "source": [
    "## Task 10 String Formatting\n"
   ]
  },
  {
   "cell_type": "code",
   "execution_count": null,
   "id": "9a614901-86ec-4054-bec0-c866cb5f59c5",
   "metadata": {},
   "outputs": [],
   "source": [
    "def print_formatted(number):\n",
    "    width = len(bin(number)[2:]) #Find how wide the binary number\n",
    "    for i in range(1, number + 1):\n",
    "        print(str(i).rjust(width),#Decimal\n",
    "              oct(i)[2:].rjust(width),#Octal\n",
    "              hex(i)[2:].upper().rjust(width),#Hex\n",
    "              bin(i)[2:].rjust(width))#Binary \n",
    "    \n",
    "    \n",
    "    \n",
    "if __name__ == '__main__':\n",
    "    n = int(input())\n",
    "    print_formatted(n)"
   ]
  }
 ],
 "metadata": {
  "kernelspec": {
   "display_name": "Python 3 (ipykernel)",
   "language": "python",
   "name": "python3"
  },
  "language_info": {
   "codemirror_mode": {
    "name": "ipython",
    "version": 3
   },
   "file_extension": ".py",
   "mimetype": "text/x-python",
   "name": "python",
   "nbconvert_exporter": "python",
   "pygments_lexer": "ipython3",
   "version": "3.13.3"
  }
 },
 "nbformat": 4,
 "nbformat_minor": 5
}
