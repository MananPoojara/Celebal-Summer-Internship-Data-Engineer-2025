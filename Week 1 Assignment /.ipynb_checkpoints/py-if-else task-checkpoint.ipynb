{
 "cells": [
  {
   "cell_type": "markdown",
   "id": "5839e958-12b1-4675-845d-f8709f869f62",
   "metadata": {
    "jp-MarkdownHeadingCollapsed": true
   },
   "source": [
    "## Task 2 Arithmetic Operators\n",
    "The provided code stub reads two integers from STDIN,  and . Add code to print three lines where:\n",
    "\n",
    "The first line contains the sum of the two numbers.\n",
    "The second line contains the difference of the two numbers (first - second).\n",
    "The third line contains the product of the two numbers."
   ]
  },
  {
   "cell_type": "code",
   "execution_count": 1,
   "id": "74daef66-c972-4c3a-b151-71683de38e95",
   "metadata": {},
   "outputs": [
    {
     "name": "stdin",
     "output_type": "stream",
     "text": [
      " 2\n",
      " 3\n"
     ]
    },
    {
     "name": "stdout",
     "output_type": "stream",
     "text": [
      "5\n",
      "-1\n",
      "6\n"
     ]
    }
   ],
   "source": [
    "if __name__ == '__main__':\n",
    "    a = int(input())\n",
    "    b = int(input())\n",
    "    print(a+b)\n",
    "    print(a-b)\n",
    "    print(a*b)\n"
   ]
  },
  {
   "cell_type": "markdown",
   "id": "af227a9b-96fe-4826-a6a9-2aaedc9ea0e5",
   "metadata": {
    "jp-MarkdownHeadingCollapsed": true
   },
   "source": [
    "## Task 3 Compress the String!\n",
    "In this task, we would like for you to appreciate the usefulness of the groupby() function of itertools .\n"
   ]
  },
  {
   "cell_type": "code",
   "execution_count": 27,
   "id": "df84a351-7492-4c5a-9dda-5059b1a71a3e",
   "metadata": {},
   "outputs": [
    {
     "name": "stdin",
     "output_type": "stream",
     "text": [
      " 112233\n"
     ]
    },
    {
     "name": "stdout",
     "output_type": "stream",
     "text": [
      "(2, 1) (2, 2) (2, 3) "
     ]
    }
   ],
   "source": [
    "'''\n",
    "Breakdown\n",
    "\n",
    "groupby() is a iterabal tool smart helper for grouping same digit or thing in group \n",
    "here we have two parameter \n",
    "key = the digit or thing\n",
    "group = making group \n",
    "\n",
    "what we did here make group of same thing and count it \n",
    "in print firt (Count, Key) \n",
    "''' \n",
    "\n",
    "import itertools \n",
    "\n",
    "s = input()\n",
    "\n",
    "for key,group in itertools.groupby(s):\n",
    "    count = len(list(group)) # finding same numbers and make it in group [2,2,2] and count is 3\n",
    "    print(f\"({count}, {key})\", end=\" \")\n",
    "    "
   ]
  },
  {
   "cell_type": "markdown",
   "id": "0737fa26-aed1-4925-8237-f3bd080727e8",
   "metadata": {},
   "source": [
    "## Task 4 The Minion Game"
   ]
  },
  {
   "cell_type": "code",
   "execution_count": null,
   "id": "3d0491a1-06cc-4596-a8af-c23a26c88601",
   "metadata": {},
   "outputs": [],
   "source": [
    "def minion_game(string):\n",
    "    vowels = 'AEIOU'\n",
    "    stuart_score = 0\n",
    "    kevin_score = 0\n",
    "    n = len(string)\n",
    "    \n",
    "    for i in range(n):\n",
    "        if string[i] in vowels:\n",
    "            kevin_score += n - i \n",
    "        else : \n",
    "            stuart_score += n - i \n",
    "    \n",
    "    if kevin_score > stuart_score:\n",
    "        print(f\"Kevin {kevin_score}\")\n",
    "    elif kevin_score < stuart_score:\n",
    "        print(f\"Stuart {stuart_score}\")\n",
    "    else:\n",
    "        print(\"Draw\")\n",
    "\n",
    "if __name__ == '__main__':\n",
    "    s = input()\n",
    "    minion_game(s)"
   ]
  }
 ],
 "metadata": {
  "kernelspec": {
   "display_name": "Python 3 (ipykernel)",
   "language": "python",
   "name": "python3"
  },
  "language_info": {
   "codemirror_mode": {
    "name": "ipython",
    "version": 3
   },
   "file_extension": ".py",
   "mimetype": "text/x-python",
   "name": "python",
   "nbconvert_exporter": "python",
   "pygments_lexer": "ipython3",
   "version": "3.13.3"
  }
 },
 "nbformat": 4,
 "nbformat_minor": 5
}
